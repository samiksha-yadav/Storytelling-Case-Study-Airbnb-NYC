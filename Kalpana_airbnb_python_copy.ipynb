{
 "cells": [
  {
   "cell_type": "markdown",
   "id": "e1c606f5",
   "metadata": {},
   "source": [
    "### Loading Data"
   ]
  },
  {
   "cell_type": "code",
   "execution_count": 2,
   "id": "f0b4a12c",
   "metadata": {},
   "outputs": [],
   "source": [
    "import numpy as np\n",
    "import pandas as pd\n",
    "\n",
    "import matplotlib.pyplot as plt\n",
    "import seaborn as sns\n",
    "\n",
    "import warnings\n",
    "warnings.filterwarnings(action=\"ignore\")"
   ]
  },
  {
   "cell_type": "code",
   "execution_count": 3,
   "id": "585a8a1c",
   "metadata": {},
   "outputs": [],
   "source": [
    "airbnb_data=pd.read_csv('AB_NYC_2019.csv')\n",
    "pd.set_option('display.max_rows', None)\n",
    "pd.set_option('display.max_columns', None)"
   ]
  },
  {
   "cell_type": "code",
   "execution_count": 9,
   "id": "5a89752a",
   "metadata": {},
   "outputs": [
    {
     "data": {
      "text/html": [
       "<div>\n",
       "<style scoped>\n",
       "    .dataframe tbody tr th:only-of-type {\n",
       "        vertical-align: middle;\n",
       "    }\n",
       "\n",
       "    .dataframe tbody tr th {\n",
       "        vertical-align: top;\n",
       "    }\n",
       "\n",
       "    .dataframe thead th {\n",
       "        text-align: right;\n",
       "    }\n",
       "</style>\n",
       "<table border=\"1\" class=\"dataframe\">\n",
       "  <thead>\n",
       "    <tr style=\"text-align: right;\">\n",
       "      <th></th>\n",
       "      <th>id</th>\n",
       "      <th>name</th>\n",
       "      <th>host_id</th>\n",
       "      <th>host_name</th>\n",
       "      <th>neighbourhood_group</th>\n",
       "      <th>neighbourhood</th>\n",
       "      <th>latitude</th>\n",
       "      <th>longitude</th>\n",
       "      <th>room_type</th>\n",
       "      <th>price</th>\n",
       "      <th>minimum_nights</th>\n",
       "      <th>number_of_reviews</th>\n",
       "      <th>last_review</th>\n",
       "      <th>reviews_per_month</th>\n",
       "      <th>calculated_host_listings_count</th>\n",
       "      <th>availability_365</th>\n",
       "    </tr>\n",
       "  </thead>\n",
       "  <tbody>\n",
       "    <tr>\n",
       "      <th>0</th>\n",
       "      <td>2539</td>\n",
       "      <td>Clean &amp; quiet apt home by the park</td>\n",
       "      <td>2787</td>\n",
       "      <td>John</td>\n",
       "      <td>Brooklyn</td>\n",
       "      <td>Kensington</td>\n",
       "      <td>40.64749</td>\n",
       "      <td>-73.97237</td>\n",
       "      <td>Private room</td>\n",
       "      <td>149</td>\n",
       "      <td>1</td>\n",
       "      <td>9</td>\n",
       "      <td>19-10-2018</td>\n",
       "      <td>0.21</td>\n",
       "      <td>6</td>\n",
       "      <td>365</td>\n",
       "    </tr>\n",
       "    <tr>\n",
       "      <th>1</th>\n",
       "      <td>2595</td>\n",
       "      <td>Skylit Midtown Castle</td>\n",
       "      <td>2845</td>\n",
       "      <td>Jennifer</td>\n",
       "      <td>Manhattan</td>\n",
       "      <td>Midtown</td>\n",
       "      <td>40.75362</td>\n",
       "      <td>-73.98377</td>\n",
       "      <td>Entire home/apt</td>\n",
       "      <td>225</td>\n",
       "      <td>1</td>\n",
       "      <td>45</td>\n",
       "      <td>21-05-2019</td>\n",
       "      <td>0.38</td>\n",
       "      <td>2</td>\n",
       "      <td>355</td>\n",
       "    </tr>\n",
       "    <tr>\n",
       "      <th>2</th>\n",
       "      <td>3647</td>\n",
       "      <td>THE VILLAGE OF HARLEM....NEW YORK !</td>\n",
       "      <td>4632</td>\n",
       "      <td>Elisabeth</td>\n",
       "      <td>Manhattan</td>\n",
       "      <td>Harlem</td>\n",
       "      <td>40.80902</td>\n",
       "      <td>-73.94190</td>\n",
       "      <td>Private room</td>\n",
       "      <td>150</td>\n",
       "      <td>3</td>\n",
       "      <td>0</td>\n",
       "      <td>NaN</td>\n",
       "      <td>NaN</td>\n",
       "      <td>1</td>\n",
       "      <td>365</td>\n",
       "    </tr>\n",
       "    <tr>\n",
       "      <th>3</th>\n",
       "      <td>3831</td>\n",
       "      <td>Cozy Entire Floor of Brownstone</td>\n",
       "      <td>4869</td>\n",
       "      <td>LisaRoxanne</td>\n",
       "      <td>Brooklyn</td>\n",
       "      <td>Clinton Hill</td>\n",
       "      <td>40.68514</td>\n",
       "      <td>-73.95976</td>\n",
       "      <td>Entire home/apt</td>\n",
       "      <td>89</td>\n",
       "      <td>1</td>\n",
       "      <td>270</td>\n",
       "      <td>05-07-2019</td>\n",
       "      <td>4.64</td>\n",
       "      <td>1</td>\n",
       "      <td>194</td>\n",
       "    </tr>\n",
       "    <tr>\n",
       "      <th>4</th>\n",
       "      <td>5022</td>\n",
       "      <td>Entire Apt: Spacious Studio/Loft by central park</td>\n",
       "      <td>7192</td>\n",
       "      <td>Laura</td>\n",
       "      <td>Manhattan</td>\n",
       "      <td>East Harlem</td>\n",
       "      <td>40.79851</td>\n",
       "      <td>-73.94399</td>\n",
       "      <td>Entire home/apt</td>\n",
       "      <td>80</td>\n",
       "      <td>10</td>\n",
       "      <td>9</td>\n",
       "      <td>19-11-2018</td>\n",
       "      <td>0.10</td>\n",
       "      <td>1</td>\n",
       "      <td>0</td>\n",
       "    </tr>\n",
       "  </tbody>\n",
       "</table>\n",
       "</div>"
      ],
      "text/plain": [
       "     id                                              name  host_id  \\\n",
       "0  2539                Clean & quiet apt home by the park     2787   \n",
       "1  2595                             Skylit Midtown Castle     2845   \n",
       "2  3647               THE VILLAGE OF HARLEM....NEW YORK !     4632   \n",
       "3  3831                   Cozy Entire Floor of Brownstone     4869   \n",
       "4  5022  Entire Apt: Spacious Studio/Loft by central park     7192   \n",
       "\n",
       "     host_name neighbourhood_group neighbourhood  latitude  longitude  \\\n",
       "0         John            Brooklyn    Kensington  40.64749  -73.97237   \n",
       "1     Jennifer           Manhattan       Midtown  40.75362  -73.98377   \n",
       "2    Elisabeth           Manhattan        Harlem  40.80902  -73.94190   \n",
       "3  LisaRoxanne            Brooklyn  Clinton Hill  40.68514  -73.95976   \n",
       "4        Laura           Manhattan   East Harlem  40.79851  -73.94399   \n",
       "\n",
       "         room_type  price  minimum_nights  number_of_reviews last_review  \\\n",
       "0     Private room    149               1                  9  19-10-2018   \n",
       "1  Entire home/apt    225               1                 45  21-05-2019   \n",
       "2     Private room    150               3                  0         NaN   \n",
       "3  Entire home/apt     89               1                270  05-07-2019   \n",
       "4  Entire home/apt     80              10                  9  19-11-2018   \n",
       "\n",
       "   reviews_per_month  calculated_host_listings_count  availability_365  \n",
       "0               0.21                               6               365  \n",
       "1               0.38                               2               355  \n",
       "2                NaN                               1               365  \n",
       "3               4.64                               1               194  \n",
       "4               0.10                               1                 0  "
      ]
     },
     "execution_count": 9,
     "metadata": {},
     "output_type": "execute_result"
    }
   ],
   "source": [
    "airbnb_data.head()"
   ]
  },
  {
   "cell_type": "markdown",
   "id": "d14bb03b",
   "metadata": {},
   "source": [
    "### Data Cleaning"
   ]
  },
  {
   "cell_type": "code",
   "execution_count": 19,
   "id": "e9edcb96",
   "metadata": {},
   "outputs": [
    {
     "data": {
      "text/plain": [
       "(48895, 16)"
      ]
     },
     "execution_count": 19,
     "metadata": {},
     "output_type": "execute_result"
    }
   ],
   "source": [
    "airbnb_data.shape"
   ]
  },
  {
   "cell_type": "code",
   "execution_count": 28,
   "id": "a05a7258",
   "metadata": {},
   "outputs": [
    {
     "data": {
      "text/plain": [
       "id                                48895\n",
       "name                              47896\n",
       "host_id                           37457\n",
       "host_name                         11452\n",
       "neighbourhood_group                   5\n",
       "neighbourhood                       221\n",
       "latitude                          19048\n",
       "longitude                         14718\n",
       "room_type                             3\n",
       "price                               674\n",
       "minimum_nights                      109\n",
       "number_of_reviews                   394\n",
       "last_review                        1764\n",
       "reviews_per_month                   937\n",
       "calculated_host_listings_count       47\n",
       "availability_365                    366\n",
       "dtype: int64"
      ]
     },
     "execution_count": 28,
     "metadata": {},
     "output_type": "execute_result"
    }
   ],
   "source": [
    "airbnb_data.nunique()"
   ]
  },
  {
   "cell_type": "code",
   "execution_count": 20,
   "id": "d7363f45",
   "metadata": {},
   "outputs": [
    {
     "name": "stdout",
     "output_type": "stream",
     "text": [
      "<class 'pandas.core.frame.DataFrame'>\n",
      "RangeIndex: 48895 entries, 0 to 48894\n",
      "Data columns (total 16 columns):\n",
      " #   Column                          Non-Null Count  Dtype  \n",
      "---  ------                          --------------  -----  \n",
      " 0   id                              48895 non-null  int64  \n",
      " 1   name                            48879 non-null  object \n",
      " 2   host_id                         48895 non-null  int64  \n",
      " 3   host_name                       48874 non-null  object \n",
      " 4   neighbourhood_group             48895 non-null  object \n",
      " 5   neighbourhood                   48895 non-null  object \n",
      " 6   latitude                        48895 non-null  float64\n",
      " 7   longitude                       48895 non-null  float64\n",
      " 8   room_type                       48895 non-null  object \n",
      " 9   price                           48895 non-null  int64  \n",
      " 10  minimum_nights                  48895 non-null  int64  \n",
      " 11  number_of_reviews               48895 non-null  int64  \n",
      " 12  last_review                     48895 non-null  object \n",
      " 13  reviews_per_month               48895 non-null  float64\n",
      " 14  calculated_host_listings_count  48895 non-null  int64  \n",
      " 15  availability_365                48895 non-null  int64  \n",
      "dtypes: float64(3), int64(7), object(6)\n",
      "memory usage: 6.0+ MB\n"
     ]
    }
   ],
   "source": [
    "airbnb_data.info('all')"
   ]
  },
  {
   "cell_type": "code",
   "execution_count": 21,
   "id": "1fde9d15",
   "metadata": {},
   "outputs": [
    {
     "data": {
      "text/html": [
       "<div>\n",
       "<style scoped>\n",
       "    .dataframe tbody tr th:only-of-type {\n",
       "        vertical-align: middle;\n",
       "    }\n",
       "\n",
       "    .dataframe tbody tr th {\n",
       "        vertical-align: top;\n",
       "    }\n",
       "\n",
       "    .dataframe thead th {\n",
       "        text-align: right;\n",
       "    }\n",
       "</style>\n",
       "<table border=\"1\" class=\"dataframe\">\n",
       "  <thead>\n",
       "    <tr style=\"text-align: right;\">\n",
       "      <th></th>\n",
       "      <th>id</th>\n",
       "      <th>host_id</th>\n",
       "      <th>latitude</th>\n",
       "      <th>longitude</th>\n",
       "      <th>price</th>\n",
       "      <th>minimum_nights</th>\n",
       "      <th>number_of_reviews</th>\n",
       "      <th>reviews_per_month</th>\n",
       "      <th>calculated_host_listings_count</th>\n",
       "      <th>availability_365</th>\n",
       "    </tr>\n",
       "  </thead>\n",
       "  <tbody>\n",
       "    <tr>\n",
       "      <th>count</th>\n",
       "      <td>4.889500e+04</td>\n",
       "      <td>4.889500e+04</td>\n",
       "      <td>48895.000000</td>\n",
       "      <td>48895.000000</td>\n",
       "      <td>48895.000000</td>\n",
       "      <td>48895.000000</td>\n",
       "      <td>48895.000000</td>\n",
       "      <td>48895.000000</td>\n",
       "      <td>48895.000000</td>\n",
       "      <td>48895.000000</td>\n",
       "    </tr>\n",
       "    <tr>\n",
       "      <th>mean</th>\n",
       "      <td>1.901714e+07</td>\n",
       "      <td>6.762001e+07</td>\n",
       "      <td>40.728949</td>\n",
       "      <td>-73.952170</td>\n",
       "      <td>152.720687</td>\n",
       "      <td>7.029962</td>\n",
       "      <td>23.274466</td>\n",
       "      <td>1.095022</td>\n",
       "      <td>7.143982</td>\n",
       "      <td>112.781327</td>\n",
       "    </tr>\n",
       "    <tr>\n",
       "      <th>std</th>\n",
       "      <td>1.098311e+07</td>\n",
       "      <td>7.861097e+07</td>\n",
       "      <td>0.054530</td>\n",
       "      <td>0.046157</td>\n",
       "      <td>240.154170</td>\n",
       "      <td>20.510550</td>\n",
       "      <td>44.550582</td>\n",
       "      <td>1.594493</td>\n",
       "      <td>32.952519</td>\n",
       "      <td>131.622289</td>\n",
       "    </tr>\n",
       "    <tr>\n",
       "      <th>min</th>\n",
       "      <td>2.539000e+03</td>\n",
       "      <td>2.438000e+03</td>\n",
       "      <td>40.499790</td>\n",
       "      <td>-74.244420</td>\n",
       "      <td>0.000000</td>\n",
       "      <td>1.000000</td>\n",
       "      <td>0.000000</td>\n",
       "      <td>0.010000</td>\n",
       "      <td>1.000000</td>\n",
       "      <td>0.000000</td>\n",
       "    </tr>\n",
       "    <tr>\n",
       "      <th>25%</th>\n",
       "      <td>9.471945e+06</td>\n",
       "      <td>7.822033e+06</td>\n",
       "      <td>40.690100</td>\n",
       "      <td>-73.983070</td>\n",
       "      <td>69.000000</td>\n",
       "      <td>1.000000</td>\n",
       "      <td>1.000000</td>\n",
       "      <td>0.040000</td>\n",
       "      <td>1.000000</td>\n",
       "      <td>0.000000</td>\n",
       "    </tr>\n",
       "    <tr>\n",
       "      <th>50%</th>\n",
       "      <td>1.967728e+07</td>\n",
       "      <td>3.079382e+07</td>\n",
       "      <td>40.723070</td>\n",
       "      <td>-73.955680</td>\n",
       "      <td>106.000000</td>\n",
       "      <td>3.000000</td>\n",
       "      <td>5.000000</td>\n",
       "      <td>0.370000</td>\n",
       "      <td>1.000000</td>\n",
       "      <td>45.000000</td>\n",
       "    </tr>\n",
       "    <tr>\n",
       "      <th>75%</th>\n",
       "      <td>2.915218e+07</td>\n",
       "      <td>1.074344e+08</td>\n",
       "      <td>40.763115</td>\n",
       "      <td>-73.936275</td>\n",
       "      <td>175.000000</td>\n",
       "      <td>5.000000</td>\n",
       "      <td>24.000000</td>\n",
       "      <td>1.580000</td>\n",
       "      <td>2.000000</td>\n",
       "      <td>227.000000</td>\n",
       "    </tr>\n",
       "    <tr>\n",
       "      <th>max</th>\n",
       "      <td>3.648724e+07</td>\n",
       "      <td>2.743213e+08</td>\n",
       "      <td>40.913060</td>\n",
       "      <td>-73.712990</td>\n",
       "      <td>10000.000000</td>\n",
       "      <td>1250.000000</td>\n",
       "      <td>629.000000</td>\n",
       "      <td>58.500000</td>\n",
       "      <td>327.000000</td>\n",
       "      <td>365.000000</td>\n",
       "    </tr>\n",
       "  </tbody>\n",
       "</table>\n",
       "</div>"
      ],
      "text/plain": [
       "                 id       host_id      latitude     longitude         price  \\\n",
       "count  4.889500e+04  4.889500e+04  48895.000000  48895.000000  48895.000000   \n",
       "mean   1.901714e+07  6.762001e+07     40.728949    -73.952170    152.720687   \n",
       "std    1.098311e+07  7.861097e+07      0.054530      0.046157    240.154170   \n",
       "min    2.539000e+03  2.438000e+03     40.499790    -74.244420      0.000000   \n",
       "25%    9.471945e+06  7.822033e+06     40.690100    -73.983070     69.000000   \n",
       "50%    1.967728e+07  3.079382e+07     40.723070    -73.955680    106.000000   \n",
       "75%    2.915218e+07  1.074344e+08     40.763115    -73.936275    175.000000   \n",
       "max    3.648724e+07  2.743213e+08     40.913060    -73.712990  10000.000000   \n",
       "\n",
       "       minimum_nights  number_of_reviews  reviews_per_month  \\\n",
       "count    48895.000000       48895.000000       48895.000000   \n",
       "mean         7.029962          23.274466           1.095022   \n",
       "std         20.510550          44.550582           1.594493   \n",
       "min          1.000000           0.000000           0.010000   \n",
       "25%          1.000000           1.000000           0.040000   \n",
       "50%          3.000000           5.000000           0.370000   \n",
       "75%          5.000000          24.000000           1.580000   \n",
       "max       1250.000000         629.000000          58.500000   \n",
       "\n",
       "       calculated_host_listings_count  availability_365  \n",
       "count                    48895.000000      48895.000000  \n",
       "mean                         7.143982        112.781327  \n",
       "std                         32.952519        131.622289  \n",
       "min                          1.000000          0.000000  \n",
       "25%                          1.000000          0.000000  \n",
       "50%                          1.000000         45.000000  \n",
       "75%                          2.000000        227.000000  \n",
       "max                        327.000000        365.000000  "
      ]
     },
     "execution_count": 21,
     "metadata": {},
     "output_type": "execute_result"
    }
   ],
   "source": [
    "airbnb_data.describe()"
   ]
  },
  {
   "cell_type": "code",
   "execution_count": 3,
   "id": "57cb68a6",
   "metadata": {},
   "outputs": [
    {
     "data": {
      "text/plain": [
       "id                                 0.000000\n",
       "name                               0.032723\n",
       "host_id                            0.000000\n",
       "host_name                          0.042949\n",
       "neighbourhood_group                0.000000\n",
       "neighbourhood                      0.000000\n",
       "latitude                           0.000000\n",
       "longitude                          0.000000\n",
       "room_type                          0.000000\n",
       "price                              0.000000\n",
       "minimum_nights                     0.000000\n",
       "number_of_reviews                  0.000000\n",
       "last_review                       20.558339\n",
       "reviews_per_month                 20.558339\n",
       "calculated_host_listings_count     0.000000\n",
       "availability_365                   0.000000\n",
       "dtype: float64"
      ]
     },
     "execution_count": 3,
     "metadata": {},
     "output_type": "execute_result"
    }
   ],
   "source": [
    "100*airbnb_data.isnull().mean()"
   ]
  },
  {
   "cell_type": "code",
   "execution_count": 4,
   "id": "e645997d",
   "metadata": {},
   "outputs": [],
   "source": [
    "airbnb_data[\"last_review\"]=airbnb_data[\"last_review\"].fillna(airbnb_data[\"last_review\"].mode()[0])\n",
    "airbnb_data[\"reviews_per_month\"]=airbnb_data[\"reviews_per_month\"].fillna(airbnb_data[\"reviews_per_month\"].median())\n",
    "airbnb_data[\"name\"]=airbnb_data[\"name\"].fillna(airbnb_data[\"name\"].mode()[0])\n",
    "airbnb_data[\"host_name\"]=airbnb_data[\"host_name\"].fillna(airbnb_data[\"host_name\"].mode()[0])"
   ]
  },
  {
   "cell_type": "code",
   "execution_count": 5,
   "id": "d716b1df",
   "metadata": {},
   "outputs": [
    {
     "data": {
      "text/plain": [
       "id                                0.0\n",
       "name                              0.0\n",
       "host_id                           0.0\n",
       "host_name                         0.0\n",
       "neighbourhood_group               0.0\n",
       "neighbourhood                     0.0\n",
       "latitude                          0.0\n",
       "longitude                         0.0\n",
       "room_type                         0.0\n",
       "price                             0.0\n",
       "minimum_nights                    0.0\n",
       "number_of_reviews                 0.0\n",
       "last_review                       0.0\n",
       "reviews_per_month                 0.0\n",
       "calculated_host_listings_count    0.0\n",
       "availability_365                  0.0\n",
       "dtype: float64"
      ]
     },
     "execution_count": 5,
     "metadata": {},
     "output_type": "execute_result"
    }
   ],
   "source": [
    "100*airbnb_data.isnull().mean()"
   ]
  },
  {
   "cell_type": "markdown",
   "id": "0aa485cc",
   "metadata": {},
   "source": [
    "### Dealing with data"
   ]
  },
  {
   "cell_type": "code",
   "execution_count": 5,
   "id": "91f900a5",
   "metadata": {},
   "outputs": [
    {
     "data": {
      "text/plain": [
       "count    48895.000000\n",
       "mean        73.952170\n",
       "std          0.046157\n",
       "min         73.712990\n",
       "25%         73.936275\n",
       "50%         73.955680\n",
       "75%         73.983070\n",
       "max         74.244420\n",
       "Name: longitude, dtype: float64"
      ]
     },
     "execution_count": 5,
     "metadata": {},
     "output_type": "execute_result"
    }
   ],
   "source": [
    "airbnb_data['longitude']= abs(airbnb_data['longitude'])\n",
    "airbnb_data['longitude'].describe()"
   ]
  },
  {
   "cell_type": "code",
   "execution_count": 4,
   "id": "8db4b684",
   "metadata": {},
   "outputs": [],
   "source": [
    "airbnb_data['availability_365']=airbnb_data['availability_365'].apply(lambda x:365 if x>365 else x)"
   ]
  },
  {
   "cell_type": "code",
   "execution_count": 46,
   "id": "be6704d0",
   "metadata": {},
   "outputs": [
    {
     "data": {
      "text/html": [
       "<div>\n",
       "<style scoped>\n",
       "    .dataframe tbody tr th:only-of-type {\n",
       "        vertical-align: middle;\n",
       "    }\n",
       "\n",
       "    .dataframe tbody tr th {\n",
       "        vertical-align: top;\n",
       "    }\n",
       "\n",
       "    .dataframe thead th {\n",
       "        text-align: right;\n",
       "    }\n",
       "</style>\n",
       "<table border=\"1\" class=\"dataframe\">\n",
       "  <thead>\n",
       "    <tr style=\"text-align: right;\">\n",
       "      <th></th>\n",
       "      <th>id</th>\n",
       "      <th>name</th>\n",
       "      <th>host_id</th>\n",
       "      <th>host_name</th>\n",
       "      <th>neighbourhood_group</th>\n",
       "      <th>neighbourhood</th>\n",
       "      <th>latitude</th>\n",
       "      <th>longitude</th>\n",
       "      <th>room_type</th>\n",
       "      <th>price</th>\n",
       "      <th>minimum_nights</th>\n",
       "      <th>number_of_reviews</th>\n",
       "      <th>last_review</th>\n",
       "      <th>reviews_per_month</th>\n",
       "      <th>calculated_host_listings_count</th>\n",
       "      <th>availability_365</th>\n",
       "    </tr>\n",
       "  </thead>\n",
       "  <tbody>\n",
       "    <tr>\n",
       "      <th>0</th>\n",
       "      <td>2539</td>\n",
       "      <td>Clean &amp; quiet apt home by the park</td>\n",
       "      <td>2787</td>\n",
       "      <td>John</td>\n",
       "      <td>Brooklyn</td>\n",
       "      <td>Kensington</td>\n",
       "      <td>40.64749</td>\n",
       "      <td>73.97237</td>\n",
       "      <td>Private room</td>\n",
       "      <td>149</td>\n",
       "      <td>1</td>\n",
       "      <td>9</td>\n",
       "      <td>19-10-2018</td>\n",
       "      <td>0.21</td>\n",
       "      <td>6</td>\n",
       "      <td>365</td>\n",
       "    </tr>\n",
       "    <tr>\n",
       "      <th>11591</th>\n",
       "      <td>9024549</td>\n",
       "      <td>Spacious &amp; Lofted in Williamsburg</td>\n",
       "      <td>8313697</td>\n",
       "      <td>Koppel</td>\n",
       "      <td>Brooklyn</td>\n",
       "      <td>Park Slope</td>\n",
       "      <td>40.67300</td>\n",
       "      <td>73.98076</td>\n",
       "      <td>Private room</td>\n",
       "      <td>120</td>\n",
       "      <td>20</td>\n",
       "      <td>0</td>\n",
       "      <td>23-06-2019</td>\n",
       "      <td>0.02</td>\n",
       "      <td>1</td>\n",
       "      <td>365</td>\n",
       "    </tr>\n",
       "    <tr>\n",
       "      <th>41757</th>\n",
       "      <td>32467835</td>\n",
       "      <td>SPACIOUS &amp; COMFY 3 BDROM/2 BATH APT CLOSE 2 SU...</td>\n",
       "      <td>216419980</td>\n",
       "      <td>Billie</td>\n",
       "      <td>Manhattan</td>\n",
       "      <td>Harlem</td>\n",
       "      <td>40.82420</td>\n",
       "      <td>73.95106</td>\n",
       "      <td>Entire home/apt</td>\n",
       "      <td>112</td>\n",
       "      <td>30</td>\n",
       "      <td>0</td>\n",
       "      <td>23-06-2019</td>\n",
       "      <td>0.02</td>\n",
       "      <td>1</td>\n",
       "      <td>365</td>\n",
       "    </tr>\n",
       "    <tr>\n",
       "      <th>41747</th>\n",
       "      <td>32466179</td>\n",
       "      <td>Sonder | The Nash |  Classic 1BR + Fitness Center</td>\n",
       "      <td>219517861</td>\n",
       "      <td>Sonder (NYC)</td>\n",
       "      <td>Manhattan</td>\n",
       "      <td>Murray Hill</td>\n",
       "      <td>40.74898</td>\n",
       "      <td>73.97534</td>\n",
       "      <td>Entire home/apt</td>\n",
       "      <td>202</td>\n",
       "      <td>29</td>\n",
       "      <td>0</td>\n",
       "      <td>23-06-2019</td>\n",
       "      <td>0.02</td>\n",
       "      <td>327</td>\n",
       "      <td>365</td>\n",
       "    </tr>\n",
       "    <tr>\n",
       "      <th>41742</th>\n",
       "      <td>32463948</td>\n",
       "      <td>Amazing East Village Loft</td>\n",
       "      <td>238779678</td>\n",
       "      <td>Dustin</td>\n",
       "      <td>Manhattan</td>\n",
       "      <td>East Village</td>\n",
       "      <td>40.72704</td>\n",
       "      <td>73.98916</td>\n",
       "      <td>Private room</td>\n",
       "      <td>55</td>\n",
       "      <td>30</td>\n",
       "      <td>0</td>\n",
       "      <td>23-06-2019</td>\n",
       "      <td>0.02</td>\n",
       "      <td>9</td>\n",
       "      <td>365</td>\n",
       "    </tr>\n",
       "  </tbody>\n",
       "</table>\n",
       "</div>"
      ],
      "text/plain": [
       "             id                                               name    host_id  \\\n",
       "0          2539                 Clean & quiet apt home by the park       2787   \n",
       "11591   9024549                  Spacious & Lofted in Williamsburg    8313697   \n",
       "41757  32467835  SPACIOUS & COMFY 3 BDROM/2 BATH APT CLOSE 2 SU...  216419980   \n",
       "41747  32466179  Sonder | The Nash |  Classic 1BR + Fitness Center  219517861   \n",
       "41742  32463948                          Amazing East Village Loft  238779678   \n",
       "\n",
       "          host_name neighbourhood_group neighbourhood  latitude  longitude  \\\n",
       "0              John            Brooklyn    Kensington  40.64749   73.97237   \n",
       "11591        Koppel            Brooklyn    Park Slope  40.67300   73.98076   \n",
       "41757        Billie           Manhattan        Harlem  40.82420   73.95106   \n",
       "41747  Sonder (NYC)           Manhattan   Murray Hill  40.74898   73.97534   \n",
       "41742        Dustin           Manhattan  East Village  40.72704   73.98916   \n",
       "\n",
       "             room_type  price  minimum_nights  number_of_reviews last_review  \\\n",
       "0         Private room    149               1                  9  19-10-2018   \n",
       "11591     Private room    120              20                  0  23-06-2019   \n",
       "41757  Entire home/apt    112              30                  0  23-06-2019   \n",
       "41747  Entire home/apt    202              29                  0  23-06-2019   \n",
       "41742     Private room     55              30                  0  23-06-2019   \n",
       "\n",
       "       reviews_per_month  calculated_host_listings_count  availability_365  \n",
       "0                   0.21                               6               365  \n",
       "11591               0.02                               1               365  \n",
       "41757               0.02                               1               365  \n",
       "41747               0.02                             327               365  \n",
       "41742               0.02                               9               365  "
      ]
     },
     "execution_count": 46,
     "metadata": {},
     "output_type": "execute_result"
    }
   ],
   "source": [
    "airbnb_data.sort_values(by='availability_365', ascending=False).head()"
   ]
  },
  {
   "cell_type": "markdown",
   "id": "ae2b823b",
   "metadata": {},
   "source": [
    "### Segmentation of Dataset"
   ]
  },
  {
   "cell_type": "code",
   "execution_count": 8,
   "id": "5b9c8a68",
   "metadata": {},
   "outputs": [
    {
     "data": {
      "text/plain": [
       "id                                48895\n",
       "name                              47896\n",
       "host_id                           37457\n",
       "host_name                         11452\n",
       "neighbourhood_group                   5\n",
       "neighbourhood                       221\n",
       "latitude                          19048\n",
       "longitude                         14718\n",
       "room_type                             3\n",
       "price                               674\n",
       "minimum_nights                      109\n",
       "number_of_reviews                   394\n",
       "last_review                        1764\n",
       "reviews_per_month                   937\n",
       "calculated_host_listings_count       47\n",
       "availability_365                    366\n",
       "dtype: int64"
      ]
     },
     "execution_count": 8,
     "metadata": {},
     "output_type": "execute_result"
    }
   ],
   "source": [
    "airbnb_data.nunique()"
   ]
  },
  {
   "cell_type": "code",
   "execution_count": 9,
   "id": "05c0407c",
   "metadata": {},
   "outputs": [
    {
     "name": "stdout",
     "output_type": "stream",
     "text": [
      "<class 'pandas.core.frame.DataFrame'>\n",
      "RangeIndex: 48895 entries, 0 to 48894\n",
      "Data columns (total 16 columns):\n",
      " #   Column                          Non-Null Count  Dtype  \n",
      "---  ------                          --------------  -----  \n",
      " 0   id                              48895 non-null  int64  \n",
      " 1   name                            48895 non-null  object \n",
      " 2   host_id                         48895 non-null  int64  \n",
      " 3   host_name                       48895 non-null  object \n",
      " 4   neighbourhood_group             48895 non-null  object \n",
      " 5   neighbourhood                   48895 non-null  object \n",
      " 6   latitude                        48895 non-null  float64\n",
      " 7   longitude                       48895 non-null  float64\n",
      " 8   room_type                       48895 non-null  object \n",
      " 9   price                           48895 non-null  int64  \n",
      " 10  minimum_nights                  48895 non-null  int64  \n",
      " 11  number_of_reviews               48895 non-null  int64  \n",
      " 12  last_review                     48895 non-null  object \n",
      " 13  reviews_per_month               48895 non-null  float64\n",
      " 14  calculated_host_listings_count  48895 non-null  int64  \n",
      " 15  availability_365                48895 non-null  int64  \n",
      "dtypes: float64(3), int64(7), object(6)\n",
      "memory usage: 6.0+ MB\n"
     ]
    }
   ],
   "source": [
    "airbnb_data.info()"
   ]
  },
  {
   "cell_type": "code",
   "execution_count": 6,
   "id": "8e90b97a",
   "metadata": {},
   "outputs": [],
   "source": [
    "cat_cols_airbnb = ['neighbourhood_group','room_type']\n",
    "cont_cols_airbnb = ['latitude','longitude','price','minimum_nights','number_of_reviews','reviews_per_month','calculated_host_listings_count','availability_365']\n",
    "id_cols = ['id']"
   ]
  },
  {
   "cell_type": "markdown",
   "id": "a8cedfea",
   "metadata": {},
   "source": [
    "### Outlier checking"
   ]
  },
  {
   "cell_type": "code",
   "execution_count": 7,
   "id": "9c6beeb4",
   "metadata": {},
   "outputs": [
    {
     "data": {
      "image/png": "[encoded data removed]",
      "text/plain": [
       "<Figure size 432x288 with 1 Axes>"
      ]
     },
     "metadata": {
      "needs_background": "light"
     },
     "output_type": "display_data"
    },
    {
     "data": {
      "image/png": "[encoded data removed]",
      "text/plain": [
       "<Figure size 432x288 with 1 Axes>"
      ]
     },
     "metadata": {
      "needs_background": "light"
     },
     "output_type": "display_data"
    },
    {
     "data": {
      "image/png": "[encoded data removed]",
      "text/plain": [
       "<Figure size 432x288 with 1 Axes>"
      ]
     },
     "metadata": {
      "needs_background": "light"
     },
     "output_type": "display_data"
    },
    {
     "data": {
      "image/png": "[encoded data removed]",
      "text/plain": [
       "<Figure size 432x288 with 1 Axes>"
      ]
     },
     "metadata": {
      "needs_background": "light"
     },
     "output_type": "display_data"
    },
    {
     "data": {
      "image/png": "[encoded data removed]",
      "text/plain": [
       "<Figure size 432x288 with 1 Axes>"
      ]
     },
     "metadata": {
      "needs_background": "light"
     },
     "output_type": "display_data"
    },
    {
     "data": {
      "image/png": "[encoded data removed]",
      "text/plain": [
       "<Figure size 432x288 with 1 Axes>"
      ]
     },
     "metadata": {
      "needs_background": "light"
     },
     "output_type": "display_data"
    },
    {
     "data": {
      "image/png": "[encoded data removed]",
      "text/plain": [
       "<Figure size 432x288 with 1 Axes>"
      ]
     },
     "metadata": {
      "needs_background": "light"
     },
     "output_type": "display_data"
    },
    {
     "data": {
      "image/png": "[encoded data removed]",
      "text/plain": [
       "<Figure size 432x288 with 1 Axes>"
      ]
     },
     "metadata": {
      "needs_background": "light"
     },
     "output_type": "display_data"
    }
   ],
   "source": [
    "for i in cont_cols_airbnb:\n",
    "    sns.boxplot(y=airbnb_data[i])\n",
    "    plt.title(\"Statistical Distribution of \"+i)\n",
    "    plt.show()"
   ]
  },
  {
   "cell_type": "markdown",
   "id": "9d387556",
   "metadata": {},
   "source": [
    "### Checking for data imbalance in dataset"
   ]
  },
  {
   "cell_type": "code",
   "execution_count": 8,
   "id": "74cc628a",
   "metadata": {},
   "outputs": [
    {
     "name": "stdout",
     "output_type": "stream",
     "text": [
      "neighbourhood_group\n"
     ]
    },
    {
     "data": {
      "image/png": "[encoded data removed]",
      "text/plain": [
       "<Figure size 432x288 with 1 Axes>"
      ]
     },
     "metadata": {
      "needs_background": "light"
     },
     "output_type": "display_data"
    },
    {
     "name": "stdout",
     "output_type": "stream",
     "text": [
      "room_type\n"
     ]
    },
    {
     "data": {
      "image/png": "[encoded data removed]",
      "text/plain": [
       "<Figure size 432x288 with 1 Axes>"
      ]
     },
     "metadata": {
      "needs_background": "light"
     },
     "output_type": "display_data"
    }
   ],
   "source": [
    "for i in cat_cols_airbnb:\n",
    "    print(i)\n",
    "    sns.countplot(airbnb_data[i])\n",
    "    plt.xticks(rotation=90)\n",
    "    plt.show()"
   ]
  },
  {
   "cell_type": "markdown",
   "id": "03c0e070",
   "metadata": {},
   "source": [
    "## Data Analysis and Visualization"
   ]
  },
  {
   "cell_type": "markdown",
   "id": "461bc564",
   "metadata": {},
   "source": [
    "### Analysis host_id "
   ]
  },
  {
   "cell_type": "code",
   "execution_count": 10,
   "id": "8858969c",
   "metadata": {},
   "outputs": [
    {
     "data": {
      "text/plain": [
       "219517861    327\n",
       "107434423    232\n",
       "30283594     121\n",
       "137358866    103\n",
       "16098958      96\n",
       "12243051      96\n",
       "61391963      91\n",
       "22541573      87\n",
       "200380610     65\n",
       "7503643       52\n",
       "Name: host_id, dtype: int64"
      ]
     },
     "execution_count": 10,
     "metadata": {},
     "output_type": "execute_result"
    }
   ],
   "source": [
    "airbnb_data.host_id.value_counts().iloc[:10]"
   ]
  },
  {
   "cell_type": "code",
   "execution_count": 50,
   "id": "19323b9a",
   "metadata": {},
   "outputs": [
    {
     "data": {
      "image/png": "[encoded data removed]",
      "text/plain": [
       "<Figure size 432x288 with 1 Axes>"
      ]
     },
     "metadata": {
      "needs_background": "light"
     },
     "output_type": "display_data"
    }
   ],
   "source": [
    "airbnb_data.host_id.value_counts().iloc[:5].plot(kind = 'bar')\n",
    "plt.show()"
   ]
  },
  {
   "cell_type": "markdown",
   "id": "1180fae2",
   "metadata": {},
   "source": [
    "#### Here we notice that highest number of stays by a host is 327 out of 365 days."
   ]
  },
  {
   "cell_type": "markdown",
   "id": "f2b6272e",
   "metadata": {},
   "source": [
    "### Analysis neighbourhood_group "
   ]
  },
  {
   "cell_type": "code",
   "execution_count": 12,
   "id": "13a1bdee",
   "metadata": {},
   "outputs": [
    {
     "data": {
      "text/plain": [
       "Manhattan        21661\n",
       "Brooklyn         20104\n",
       "Queens            5666\n",
       "Bronx             1091\n",
       "Staten Island      373\n",
       "Name: neighbourhood_group, dtype: int64"
      ]
     },
     "execution_count": 12,
     "metadata": {},
     "output_type": "execute_result"
    }
   ],
   "source": [
    "airbnb_data['neighbourhood_group'].value_counts()"
   ]
  },
  {
   "cell_type": "code",
   "execution_count": 49,
   "id": "0ff999de",
   "metadata": {},
   "outputs": [
    {
     "data": {
      "image/png": "[encoded data removed]",
      "text/plain": [
       "<Figure size 400x400 with 1 Axes>"
      ]
     },
     "metadata": {},
     "output_type": "display_data"
    }
   ],
   "source": [
    "fig = plt.figure(figsize=(5,5), dpi=80)\n",
    "airbnb_data['neighbourhood_group'].value_counts().plot(kind='pie', autopct='%1.0f%%', startangle=360, fontsize=12)\n",
    "plt.show()"
   ]
  },
  {
   "cell_type": "markdown",
   "id": "115568ab",
   "metadata": {},
   "source": [
    "#### In Manhattan(44%) and Brooklyn(41%) cities most Airbnb transactions happens.\n",
    "#### In Staten Island city(1%) least Airbnb transactions happens."
   ]
  },
  {
   "cell_type": "markdown",
   "id": "01d2b8b9",
   "metadata": {},
   "source": [
    "### Analysis neighbourhood"
   ]
  },
  {
   "cell_type": "code",
   "execution_count": 6,
   "id": "3cd73860",
   "metadata": {},
   "outputs": [
    {
     "data": {
      "text/plain": [
       "Williamsburg          3920\n",
       "Bedford-Stuyvesant    3714\n",
       "Harlem                2658\n",
       "Bushwick              2465\n",
       "Upper West Side       1971\n",
       "Hell's Kitchen        1958\n",
       "East Village          1853\n",
       "Upper East Side       1798\n",
       "Crown Heights         1564\n",
       "Midtown               1545\n",
       "Name: neighbourhood, dtype: int64"
      ]
     },
     "execution_count": 6,
     "metadata": {},
     "output_type": "execute_result"
    }
   ],
   "source": [
    "airbnb_data['neighbourhood'].value_counts().iloc[:10]"
   ]
  },
  {
   "cell_type": "code",
   "execution_count": 8,
   "id": "df42e4dc",
   "metadata": {},
   "outputs": [
    {
     "data": {
      "text/plain": [
       "array(['Kensington', 'Midtown', 'Harlem', 'Clinton Hill', 'East Harlem',\n",
       "       'Murray Hill', 'Bedford-Stuyvesant', \"Hell's Kitchen\",\n",
       "       'Upper West Side', 'Chinatown', 'South Slope', 'West Village',\n",
       "       'Williamsburg', 'Fort Greene', 'Chelsea', 'Crown Heights',\n",
       "       'Park Slope', 'Windsor Terrace', 'Inwood', 'East Village',\n",
       "       'Greenpoint', 'Bushwick', 'Flatbush', 'Lower East Side',\n",
       "       'Prospect-Lefferts Gardens', 'Long Island City', 'Kips Bay',\n",
       "       'SoHo', 'Upper East Side', 'Prospect Heights',\n",
       "       'Washington Heights', 'Woodside', 'Brooklyn Heights',\n",
       "       'Carroll Gardens', 'Gowanus', 'Flatlands', 'Cobble Hill',\n",
       "       'Flushing', 'Boerum Hill', 'Sunnyside', 'DUMBO', 'St. George',\n",
       "       'Highbridge', 'Financial District', 'Ridgewood',\n",
       "       'Morningside Heights', 'Jamaica', 'Middle Village', 'NoHo',\n",
       "       'Ditmars Steinway', 'Flatiron District', 'Roosevelt Island',\n",
       "       'Greenwich Village', 'Little Italy', 'East Flatbush',\n",
       "       'Tompkinsville', 'Astoria', 'Clason Point', 'Eastchester',\n",
       "       'Kingsbridge', 'Two Bridges', 'Queens Village', 'Rockaway Beach',\n",
       "       'Forest Hills', 'Nolita', 'Woodlawn', 'University Heights',\n",
       "       'Gravesend', 'Gramercy', 'Allerton', 'East New York',\n",
       "       'Theater District', 'Concourse Village', 'Sheepshead Bay',\n",
       "       'Emerson Hill', 'Fort Hamilton', 'Bensonhurst', 'Tribeca',\n",
       "       'Shore Acres', 'Sunset Park', 'Concourse', 'Elmhurst',\n",
       "       'Brighton Beach', 'Jackson Heights', 'Cypress Hills', 'St. Albans',\n",
       "       'Arrochar', 'Rego Park', 'Wakefield', 'Clifton', 'Bay Ridge',\n",
       "       'Graniteville', 'Spuyten Duyvil', 'Stapleton', 'Briarwood',\n",
       "       'Ozone Park', 'Columbia St', 'Vinegar Hill', 'Mott Haven',\n",
       "       'Longwood', 'Canarsie', 'Battery Park City', 'Civic Center',\n",
       "       'East Elmhurst', 'New Springville', 'Morris Heights', 'Arverne',\n",
       "       'Cambria Heights', 'Tottenville', 'Mariners Harbor', 'Concord',\n",
       "       'Borough Park', 'Bayside', 'Downtown Brooklyn', 'Port Morris',\n",
       "       'Fieldston', 'Kew Gardens', 'Midwood', 'College Point',\n",
       "       'Mount Eden', 'City Island', 'Glendale', 'Port Richmond',\n",
       "       'Red Hook', 'Richmond Hill', 'Bellerose', 'Maspeth',\n",
       "       'Williamsbridge', 'Soundview', 'Woodhaven', 'Woodrow',\n",
       "       'Co-op City', 'Stuyvesant Town', 'Parkchester', 'North Riverdale',\n",
       "       'Dyker Heights', 'Bronxdale', 'Sea Gate', 'Riverdale',\n",
       "       'Kew Gardens Hills', 'Bay Terrace', 'Norwood', 'Claremont Village',\n",
       "       'Whitestone', 'Fordham', 'Bayswater', 'Navy Yard', 'Brownsville',\n",
       "       'Eltingville', 'Fresh Meadows', 'Mount Hope', 'Lighthouse Hill',\n",
       "       'Springfield Gardens', 'Howard Beach', 'Belle Harbor',\n",
       "       'Jamaica Estates', 'Van Nest', 'Morris Park', 'West Brighton',\n",
       "       'Far Rockaway', 'South Ozone Park', 'Tremont', 'Corona',\n",
       "       'Great Kills', 'Manhattan Beach', 'Marble Hill', 'Dongan Hills',\n",
       "       'Castleton Corners', 'East Morrisania', 'Hunts Point', 'Neponsit',\n",
       "       'Pelham Bay', 'Randall Manor', 'Throgs Neck', 'Todt Hill',\n",
       "       'West Farms', 'Silver Lake', 'Morrisania', 'Laurelton',\n",
       "       'Grymes Hill', 'Holliswood', 'Pelham Gardens', 'Belmont',\n",
       "       'Rosedale', 'Edgemere', 'New Brighton', 'Midland Beach',\n",
       "       'Baychester', 'Melrose', 'Bergen Beach', 'Richmondtown',\n",
       "       'Howland Hook', 'Schuylerville', 'Coney Island', 'New Dorp Beach',\n",
       "       \"Prince's Bay\", 'South Beach', 'Bath Beach', 'Jamaica Hills',\n",
       "       'Oakwood', 'Castle Hill', 'Hollis', 'Douglaston', 'Huguenot',\n",
       "       'Olinville', 'Edenwald', 'Grant City', 'Westerleigh',\n",
       "       'Bay Terrace, Staten Island', 'Westchester Square', 'Little Neck',\n",
       "       'Fort Wadsworth', 'Rosebank', 'Unionport', 'Mill Basin',\n",
       "       'Arden Heights', \"Bull's Head\", 'New Dorp', 'Rossville',\n",
       "       'Breezy Point', 'Willowbrook'], dtype=object)"
      ]
     },
     "execution_count": 8,
     "metadata": {},
     "output_type": "execute_result"
    }
   ],
   "source": [
    "airbnb_data['neighbourhood'].unique()\n"
   ]
  },
  {
   "cell_type": "code",
   "execution_count": 10,
   "id": "4dc9a2f6",
   "metadata": {},
   "outputs": [
    {
     "data": {
      "image/png": "[encoded data removed]",
      "text/plain": [
       "<Figure size 400x400 with 1 Axes>"
      ]
     },
     "metadata": {},
     "output_type": "display_data"
    }
   ],
   "source": [
    "fig = plt.figure(figsize=(5,5), dpi=80)\n",
    "airbnb_data['neighbourhood'].value_counts().iloc[:5].plot(kind='pie',  autopct='%1.0f%%', startangle=360, fontsize=13)\n",
    "plt.show()"
   ]
  },
  {
   "cell_type": "markdown",
   "id": "eb1ba12f",
   "metadata": {},
   "source": [
    "#### We can see that Williamsburg is the area where high number of transaction happens."
   ]
  },
  {
   "cell_type": "markdown",
   "id": "84ddec4d",
   "metadata": {},
   "source": [
    "### Analysis of room_type"
   ]
  },
  {
   "cell_type": "code",
   "execution_count": 11,
   "id": "060568c0",
   "metadata": {},
   "outputs": [
    {
     "data": {
      "text/plain": [
       "Entire home/apt    25409\n",
       "Private room       22326\n",
       "Shared room         1160\n",
       "Name: room_type, dtype: int64"
      ]
     },
     "execution_count": 11,
     "metadata": {},
     "output_type": "execute_result"
    }
   ],
   "source": [
    "airbnb_data['room_type'].value_counts()"
   ]
  },
  {
   "cell_type": "code",
   "execution_count": 12,
   "id": "b6b23db9",
   "metadata": {},
   "outputs": [
    {
     "data": {
      "image/png": "[encoded data removed]",
      "text/plain": [
       "<Figure size 400x400 with 1 Axes>"
      ]
     },
     "metadata": {},
     "output_type": "display_data"
    }
   ],
   "source": [
    "fig = plt.figure(figsize=(5,5), dpi=80)\n",
    "airbnb_data['room_type'].value_counts().plot(kind='pie',  autopct='%1.0f%%', startangle=360, fontsize=13)\n",
    "plt.show()"
   ]
  },
  {
   "cell_type": "markdown",
   "id": "2e0f3628",
   "metadata": {},
   "source": [
    "#### Around 25k people (52%) choose to use a house/apt while 22k(46%) for a private room. Only 1k(2%) people choose a shared room. This could mean more people who use airbnb, use it with family maybe for tours,visits,etc."
   ]
  },
  {
   "cell_type": "markdown",
   "id": "e21f4807",
   "metadata": {},
   "source": [
    "### Analysis of price "
   ]
  },
  {
   "cell_type": "code",
   "execution_count": 16,
   "id": "b7f13eb9",
   "metadata": {},
   "outputs": [
    {
     "data": {
      "text/plain": [
       "100    2051\n",
       "150    2047\n",
       "50     1534\n",
       "60     1458\n",
       "200    1401\n",
       "75     1370\n",
       "80     1272\n",
       "65     1190\n",
       "70     1170\n",
       "120    1130\n",
       "Name: price, dtype: int64"
      ]
     },
     "execution_count": 16,
     "metadata": {},
     "output_type": "execute_result"
    }
   ],
   "source": [
    "airbnb_data.price.value_counts().iloc[:10]"
   ]
  },
  {
   "cell_type": "code",
   "execution_count": 15,
   "id": "be7ebd10",
   "metadata": {},
   "outputs": [
    {
     "data": {
      "image/png": "[encoded data removed]",
      "text/plain": [
       "<Figure size 432x288 with 1 Axes>"
      ]
     },
     "metadata": {
      "needs_background": "light"
     },
     "output_type": "display_data"
    }
   ],
   "source": [
    "airbnb_data.price.value_counts().iloc[:10].plot(kind = 'bar')\n",
    "plt.show()"
   ]
  },
  {
   "cell_type": "code",
   "execution_count": 14,
   "id": "12bfe7ff",
   "metadata": {},
   "outputs": [
    {
     "data": {
      "text/plain": [
       "count    48895.000000\n",
       "mean       152.720687\n",
       "std        240.154170\n",
       "min          0.000000\n",
       "25%         69.000000\n",
       "50%        106.000000\n",
       "75%        175.000000\n",
       "max      10000.000000\n",
       "Name: price, dtype: float64"
      ]
     },
     "execution_count": 14,
     "metadata": {},
     "output_type": "execute_result"
    }
   ],
   "source": [
    "airbnb_data.price.describe()"
   ]
  },
  {
   "cell_type": "markdown",
   "id": "6d758c09",
   "metadata": {},
   "source": [
    "#### The average pricing is around 152 dollars.\n",
    "#### 50% of data has price greater than 106 dollars.\n",
    "#### The costliest airbnb has around 10k dollars as price."
   ]
  },
  {
   "cell_type": "code",
   "execution_count": 13,
   "id": "fbb2faf4",
   "metadata": {},
   "outputs": [
    {
     "data": {
      "text/html": [
       "<div>\n",
       "<style scoped>\n",
       "    .dataframe tbody tr th:only-of-type {\n",
       "        vertical-align: middle;\n",
       "    }\n",
       "\n",
       "    .dataframe tbody tr th {\n",
       "        vertical-align: top;\n",
       "    }\n",
       "\n",
       "    .dataframe thead th {\n",
       "        text-align: right;\n",
       "    }\n",
       "</style>\n",
       "<table border=\"1\" class=\"dataframe\">\n",
       "  <thead>\n",
       "    <tr style=\"text-align: right;\">\n",
       "      <th></th>\n",
       "      <th>id</th>\n",
       "      <th>name</th>\n",
       "      <th>host_id</th>\n",
       "      <th>host_name</th>\n",
       "      <th>neighbourhood_group</th>\n",
       "      <th>neighbourhood</th>\n",
       "      <th>latitude</th>\n",
       "      <th>longitude</th>\n",
       "      <th>room_type</th>\n",
       "      <th>price</th>\n",
       "      <th>minimum_nights</th>\n",
       "      <th>number_of_reviews</th>\n",
       "      <th>last_review</th>\n",
       "      <th>reviews_per_month</th>\n",
       "      <th>calculated_host_listings_count</th>\n",
       "      <th>availability_365</th>\n",
       "    </tr>\n",
       "  </thead>\n",
       "  <tbody>\n",
       "    <tr>\n",
       "      <th>9151</th>\n",
       "      <td>7003697</td>\n",
       "      <td>Furnished room in Astoria apartment</td>\n",
       "      <td>20582832</td>\n",
       "      <td>Kathrine</td>\n",
       "      <td>Queens</td>\n",
       "      <td>Astoria</td>\n",
       "      <td>40.76810</td>\n",
       "      <td>-73.91651</td>\n",
       "      <td>Private room</td>\n",
       "      <td>10000</td>\n",
       "      <td>100</td>\n",
       "      <td>2</td>\n",
       "      <td>13-02-2016</td>\n",
       "      <td>0.04</td>\n",
       "      <td>1</td>\n",
       "      <td>0</td>\n",
       "    </tr>\n",
       "    <tr>\n",
       "      <th>17692</th>\n",
       "      <td>13894339</td>\n",
       "      <td>Luxury 1 bedroom apt. -stunning Manhattan views</td>\n",
       "      <td>5143901</td>\n",
       "      <td>Erin</td>\n",
       "      <td>Brooklyn</td>\n",
       "      <td>Greenpoint</td>\n",
       "      <td>40.73260</td>\n",
       "      <td>-73.95739</td>\n",
       "      <td>Entire home/apt</td>\n",
       "      <td>10000</td>\n",
       "      <td>5</td>\n",
       "      <td>5</td>\n",
       "      <td>27-07-2017</td>\n",
       "      <td>0.16</td>\n",
       "      <td>1</td>\n",
       "      <td>0</td>\n",
       "    </tr>\n",
       "    <tr>\n",
       "      <th>29238</th>\n",
       "      <td>22436899</td>\n",
       "      <td>1-BR Lincoln Center</td>\n",
       "      <td>72390391</td>\n",
       "      <td>Jelena</td>\n",
       "      <td>Manhattan</td>\n",
       "      <td>Upper West Side</td>\n",
       "      <td>40.77213</td>\n",
       "      <td>-73.98665</td>\n",
       "      <td>Entire home/apt</td>\n",
       "      <td>10000</td>\n",
       "      <td>30</td>\n",
       "      <td>0</td>\n",
       "      <td>23-06-2019</td>\n",
       "      <td>0.72</td>\n",
       "      <td>1</td>\n",
       "      <td>83</td>\n",
       "    </tr>\n",
       "  </tbody>\n",
       "</table>\n",
       "</div>"
      ],
      "text/plain": [
       "             id                                             name   host_id  \\\n",
       "9151    7003697              Furnished room in Astoria apartment  20582832   \n",
       "17692  13894339  Luxury 1 bedroom apt. -stunning Manhattan views   5143901   \n",
       "29238  22436899                              1-BR Lincoln Center  72390391   \n",
       "\n",
       "      host_name neighbourhood_group    neighbourhood  latitude  longitude  \\\n",
       "9151   Kathrine              Queens          Astoria  40.76810  -73.91651   \n",
       "17692      Erin            Brooklyn       Greenpoint  40.73260  -73.95739   \n",
       "29238    Jelena           Manhattan  Upper West Side  40.77213  -73.98665   \n",
       "\n",
       "             room_type  price  minimum_nights  number_of_reviews last_review  \\\n",
       "9151      Private room  10000             100                  2  13-02-2016   \n",
       "17692  Entire home/apt  10000               5                  5  27-07-2017   \n",
       "29238  Entire home/apt  10000              30                  0  23-06-2019   \n",
       "\n",
       "       reviews_per_month  calculated_host_listings_count  availability_365  \n",
       "9151                0.04                               1                 0  \n",
       "17692               0.16                               1                 0  \n",
       "29238               0.72                               1                83  "
      ]
     },
     "execution_count": 13,
     "metadata": {},
     "output_type": "execute_result"
    }
   ],
   "source": [
    "airbnb_data[airbnb_data['price'] == 10000.000000]"
   ]
  },
  {
   "cell_type": "markdown",
   "id": "394d4113",
   "metadata": {},
   "source": [
    "#### We have 3 airbnbs with 10k per night luxury stay, one private room and 2 home stay."
   ]
  },
  {
   "cell_type": "markdown",
   "id": "e67a2651",
   "metadata": {},
   "source": [
    "### Analysis of minimum_nights"
   ]
  },
  {
   "cell_type": "code",
   "execution_count": 17,
   "id": "8582c12f",
   "metadata": {},
   "outputs": [
    {
     "data": {
      "text/plain": [
       "1       12720\n",
       "2       11696\n",
       "3        7999\n",
       "30       3760\n",
       "4        3303\n",
       "5        3034\n",
       "7        2058\n",
       "6         752\n",
       "14        562\n",
       "10        483\n",
       "29        340\n",
       "15        279\n",
       "20        223\n",
       "28        203\n",
       "31        201\n",
       "21        135\n",
       "8         130\n",
       "60        106\n",
       "90        104\n",
       "12         91\n",
       "25         82\n",
       "9          80\n",
       "13         54\n",
       "180        43\n",
       "11         33\n",
       "45         32\n",
       "365        29\n",
       "120        28\n",
       "18         28\n",
       "16         18\n",
       "27         17\n",
       "26         16\n",
       "100        15\n",
       "35         15\n",
       "24         14\n",
       "17         14\n",
       "50         14\n",
       "40         13\n",
       "80          9\n",
       "19          8\n",
       "32          8\n",
       "22          8\n",
       "23          8\n",
       "70          8\n",
       "59          6\n",
       "300         6\n",
       "150         6\n",
       "360         5\n",
       "500         5\n",
       "200         4\n",
       "75          4\n",
       "55          4\n",
       "999         3\n",
       "62          3\n",
       "91          3\n",
       "110         3\n",
       "240         3\n",
       "93          2\n",
       "160         2\n",
       "47          2\n",
       "88          2\n",
       "105         2\n",
       "33          2\n",
       "53          2\n",
       "115         2\n",
       "181         2\n",
       "210         2\n",
       "270         2\n",
       "44          2\n",
       "133         2\n",
       "56          2\n",
       "99          2\n",
       "354         1\n",
       "42          1\n",
       "37          1\n",
       "85          1\n",
       "58          1\n",
       "225         1\n",
       "114         1\n",
       "400         1\n",
       "175         1\n",
       "184         1\n",
       "153         1\n",
       "134         1\n",
       "182         1\n",
       "275         1\n",
       "222         1\n",
       "98          1\n",
       "250         1\n",
       "299         1\n",
       "183         1\n",
       "65          1\n",
       "122         1\n",
       "370         1\n",
       "265         1\n",
       "185         1\n",
       "39          1\n",
       "1000        1\n",
       "1250        1\n",
       "364         1\n",
       "74          1\n",
       "198         1\n",
       "43          1\n",
       "480         1\n",
       "186         1\n",
       "366         1\n",
       "68          1\n",
       "87          1\n",
       "36          1\n",
       "Name: minimum_nights, dtype: int64"
      ]
     },
     "execution_count": 17,
     "metadata": {},
     "output_type": "execute_result"
    }
   ],
   "source": [
    "airbnb_data['minimum_nights'].value_counts()"
   ]
  },
  {
   "cell_type": "code",
   "execution_count": 18,
   "id": "de85f580",
   "metadata": {},
   "outputs": [
    {
     "data": {
      "image/png": "[encoded data removed]",
      "text/plain": [
       "<Figure size 432x288 with 1 Axes>"
      ]
     },
     "metadata": {
      "needs_background": "light"
     },
     "output_type": "display_data"
    }
   ],
   "source": [
    "airbnb_data['minimum_nights'].value_counts().iloc[:4].plot(kind = 'barh')\n",
    "plt.show()"
   ]
  },
  {
   "cell_type": "markdown",
   "id": "519f1ec9",
   "metadata": {},
   "source": [
    "#### We can observe that most of almost 12k people used 1 night stay in airbnb.\n",
    "#### 11k people choose 2 night stay while 7k choose 3 night stay.\n",
    "#### Almost 3.7k stayed upto a month."
   ]
  },
  {
   "cell_type": "markdown",
   "id": "9408ced7",
   "metadata": {},
   "source": [
    "### Analysis of availability_365"
   ]
  },
  {
   "cell_type": "code",
   "execution_count": 19,
   "id": "934e289f",
   "metadata": {},
   "outputs": [
    {
     "data": {
      "text/plain": [
       "0      17533\n",
       "365     1295\n",
       "364      491\n",
       "1        408\n",
       "89       361\n",
       "5        340\n",
       "3        306\n",
       "179      301\n",
       "90       290\n",
       "2        270\n",
       "6        245\n",
       "363      239\n",
       "8        233\n",
       "4        233\n",
       "342      230\n",
       "188      225\n",
       "7        219\n",
       "88       200\n",
       "311      199\n",
       "341      199\n",
       "9        193\n",
       "180      192\n",
       "83       183\n",
       "358      180\n",
       "14       173\n",
       "11       173\n",
       "12       172\n",
       "332      171\n",
       "35       168\n",
       "362      166\n",
       "10       165\n",
       "13       162\n",
       "15       159\n",
       "189      157\n",
       "310      156\n",
       "333      154\n",
       "16       151\n",
       "87       150\n",
       "66       143\n",
       "36       141\n",
       "23       135\n",
       "359      135\n",
       "19       135\n",
       "20       134\n",
       "157      134\n",
       "343      134\n",
       "34       134\n",
       "24       131\n",
       "32       130\n",
       "17       130\n",
       "22       129\n",
       "21       128\n",
       "31       127\n",
       "38       125\n",
       "18       125\n",
       "281      123\n",
       "177      120\n",
       "37       119\n",
       "249      118\n",
       "280      114\n",
       "64       113\n",
       "29       113\n",
       "67       112\n",
       "361      111\n",
       "43       111\n",
       "345      111\n",
       "331      110\n",
       "81       110\n",
       "339      109\n",
       "84       108\n",
       "30       108\n",
       "28       108\n",
       "347      105\n",
       "173      105\n",
       "325      104\n",
       "156      104\n",
       "326      103\n",
       "27       103\n",
       "42       102\n",
       "351      102\n",
       "340      102\n",
       "360      102\n",
       "346      101\n",
       "54       101\n",
       "26       101\n",
       "312      100\n",
       "48       100\n",
       "178       99\n",
       "354       99\n",
       "338       99\n",
       "80        98\n",
       "44        97\n",
       "53        96\n",
       "336       95\n",
       "125       95\n",
       "357       95\n",
       "77        94\n",
       "352       93\n",
       "85        93\n",
       "318       92\n",
       "45        92\n",
       "25        92\n",
       "60        91\n",
       "327       91\n",
       "78        91\n",
       "330       91\n",
       "65        91\n",
       "52        91\n",
       "50        90\n",
       "41        90\n",
       "329       89\n",
       "323       89\n",
       "33        89\n",
       "337       89\n",
       "55        89\n",
       "39        88\n",
       "58        88\n",
       "74        88\n",
       "353       88\n",
       "76        88\n",
       "68        87\n",
       "158       87\n",
       "49        87\n",
       "324       86\n",
       "86        86\n",
       "51        85\n",
       "335       85\n",
       "63        85\n",
       "334       84\n",
       "355       84\n",
       "220       84\n",
       "40        83\n",
       "59        83\n",
       "349       82\n",
       "282       82\n",
       "46        82\n",
       "71        81\n",
       "348       81\n",
       "69        81\n",
       "321       81\n",
       "319       81\n",
       "61        80\n",
       "170       80\n",
       "317       80\n",
       "322       80\n",
       "344       80\n",
       "79        79\n",
       "270       79\n",
       "82        79\n",
       "73        78\n",
       "356       78\n",
       "70        78\n",
       "328       78\n",
       "95        77\n",
       "250       77\n",
       "57        76\n",
       "72        76\n",
       "269       75\n",
       "56        75\n",
       "175       73\n",
       "155       72\n",
       "176       72\n",
       "308       72\n",
       "320       71\n",
       "350       70\n",
       "62        70\n",
       "75        70\n",
       "283       70\n",
       "128       69\n",
       "174       68\n",
       "297       68\n",
       "292       68\n",
       "316       67\n",
       "126       67\n",
       "302       67\n",
       "161       67\n",
       "247       66\n",
       "47        66\n",
       "129       66\n",
       "219       65\n",
       "160       65\n",
       "167       64\n",
       "267       64\n",
       "257       64\n",
       "313       63\n",
       "301       63\n",
       "127       62\n",
       "263       62\n",
       "252       62\n",
       "246       61\n",
       "305       61\n",
       "255       61\n",
       "171       60\n",
       "284       60\n",
       "268       60\n",
       "273       60\n",
       "164       60\n",
       "314       59\n",
       "96        59\n",
       "300       59\n",
       "151       59\n",
       "97        59\n",
       "98        59\n",
       "242       59\n",
       "166       59\n",
       "307       59\n",
       "244       59\n",
       "163       59\n",
       "309       58\n",
       "251       58\n",
       "105       57\n",
       "296       57\n",
       "264       57\n",
       "303       57\n",
       "304       57\n",
       "146       56\n",
       "258       56\n",
       "298       56\n",
       "159       55\n",
       "261       55\n",
       "248       55\n",
       "275       54\n",
       "294       54\n",
       "272       54\n",
       "315       54\n",
       "133       54\n",
       "271       53\n",
       "299       53\n",
       "266       53\n",
       "238       53\n",
       "147       53\n",
       "236       53\n",
       "168       53\n",
       "235       53\n",
       "139       52\n",
       "293       52\n",
       "288       52\n",
       "287       52\n",
       "140       52\n",
       "285       52\n",
       "215       52\n",
       "306       51\n",
       "262       51\n",
       "254       51\n",
       "112       51\n",
       "278       51\n",
       "279       51\n",
       "290       51\n",
       "132       51\n",
       "245       51\n",
       "134       50\n",
       "154       50\n",
       "253       50\n",
       "93        50\n",
       "152       50\n",
       "135       50\n",
       "145       50\n",
       "91        50\n",
       "211       50\n",
       "153       50\n",
       "99        50\n",
       "123       49\n",
       "192       49\n",
       "265       49\n",
       "216       49\n",
       "260       48\n",
       "162       48\n",
       "169       48\n",
       "237       48\n",
       "221       48\n",
       "165       48\n",
       "230       48\n",
       "185       48\n",
       "193       47\n",
       "256       47\n",
       "172       47\n",
       "191       47\n",
       "291       47\n",
       "102       47\n",
       "233       47\n",
       "101       46\n",
       "120       46\n",
       "213       46\n",
       "142       46\n",
       "274       46\n",
       "144       46\n",
       "137       46\n",
       "124       45\n",
       "149       45\n",
       "239       45\n",
       "110       45\n",
       "116       45\n",
       "217       44\n",
       "231       44\n",
       "141       44\n",
       "121       44\n",
       "201       44\n",
       "286       44\n",
       "204       44\n",
       "207       43\n",
       "277       43\n",
       "234       43\n",
       "107       43\n",
       "243       43\n",
       "225       43\n",
       "276       42\n",
       "199       42\n",
       "130       42\n",
       "92        42\n",
       "222       42\n",
       "138       42\n",
       "115       41\n",
       "94        41\n",
       "229       41\n",
       "295       41\n",
       "232       41\n",
       "190       41\n",
       "197       40\n",
       "113       40\n",
       "106       40\n",
       "117       40\n",
       "118       40\n",
       "208       39\n",
       "241       39\n",
       "148       38\n",
       "205       38\n",
       "131       38\n",
       "103       38\n",
       "224       38\n",
       "150       38\n",
       "100       37\n",
       "184       37\n",
       "198       37\n",
       "209       36\n",
       "203       36\n",
       "109       36\n",
       "212       36\n",
       "226       36\n",
       "228       36\n",
       "136       36\n",
       "108       35\n",
       "259       35\n",
       "119       35\n",
       "240       35\n",
       "223       35\n",
       "200       35\n",
       "187       34\n",
       "218       34\n",
       "289       34\n",
       "214       33\n",
       "104       33\n",
       "194       33\n",
       "111       33\n",
       "122       33\n",
       "227       32\n",
       "114       32\n",
       "210       32\n",
       "186       31\n",
       "206       31\n",
       "182       31\n",
       "143       30\n",
       "195       26\n",
       "183       24\n",
       "196       24\n",
       "181       23\n",
       "202       20\n",
       "Name: availability_365, dtype: int64"
      ]
     },
     "execution_count": 19,
     "metadata": {},
     "output_type": "execute_result"
    }
   ],
   "source": [
    "airbnb_data['availability_365'].value_counts()"
   ]
  },
  {
   "cell_type": "code",
   "execution_count": 20,
   "id": "9979535e",
   "metadata": {},
   "outputs": [
    {
     "data": {
      "text/html": [
       "<div>\n",
       "<style scoped>\n",
       "    .dataframe tbody tr th:only-of-type {\n",
       "        vertical-align: middle;\n",
       "    }\n",
       "\n",
       "    .dataframe tbody tr th {\n",
       "        vertical-align: top;\n",
       "    }\n",
       "\n",
       "    .dataframe thead th {\n",
       "        text-align: right;\n",
       "    }\n",
       "</style>\n",
       "<table border=\"1\" class=\"dataframe\">\n",
       "  <thead>\n",
       "    <tr style=\"text-align: right;\">\n",
       "      <th></th>\n",
       "      <th>id</th>\n",
       "      <th>host_id</th>\n",
       "      <th>latitude</th>\n",
       "      <th>longitude</th>\n",
       "      <th>price</th>\n",
       "      <th>minimum_nights</th>\n",
       "      <th>number_of_reviews</th>\n",
       "      <th>reviews_per_month</th>\n",
       "      <th>calculated_host_listings_count</th>\n",
       "      <th>availability_365</th>\n",
       "    </tr>\n",
       "  </thead>\n",
       "  <tbody>\n",
       "    <tr>\n",
       "      <th>count</th>\n",
       "      <td>1.295000e+03</td>\n",
       "      <td>1.295000e+03</td>\n",
       "      <td>1295.000000</td>\n",
       "      <td>1295.000000</td>\n",
       "      <td>1295.000000</td>\n",
       "      <td>1295.00000</td>\n",
       "      <td>1295.000000</td>\n",
       "      <td>1295.000000</td>\n",
       "      <td>1295.000000</td>\n",
       "      <td>1295.0</td>\n",
       "    </tr>\n",
       "    <tr>\n",
       "      <th>mean</th>\n",
       "      <td>1.940195e+07</td>\n",
       "      <td>8.554698e+07</td>\n",
       "      <td>40.729014</td>\n",
       "      <td>-73.943275</td>\n",
       "      <td>250.769884</td>\n",
       "      <td>19.60000</td>\n",
       "      <td>10.220849</td>\n",
       "      <td>0.793089</td>\n",
       "      <td>13.158301</td>\n",
       "      <td>365.0</td>\n",
       "    </tr>\n",
       "    <tr>\n",
       "      <th>std</th>\n",
       "      <td>1.197265e+07</td>\n",
       "      <td>8.786960e+07</td>\n",
       "      <td>0.057781</td>\n",
       "      <td>0.059799</td>\n",
       "      <td>550.497373</td>\n",
       "      <td>65.05093</td>\n",
       "      <td>22.095983</td>\n",
       "      <td>0.897942</td>\n",
       "      <td>36.224171</td>\n",
       "      <td>0.0</td>\n",
       "    </tr>\n",
       "    <tr>\n",
       "      <th>min</th>\n",
       "      <td>2.539000e+03</td>\n",
       "      <td>2.787000e+03</td>\n",
       "      <td>40.507080</td>\n",
       "      <td>-74.242850</td>\n",
       "      <td>20.000000</td>\n",
       "      <td>1.00000</td>\n",
       "      <td>0.000000</td>\n",
       "      <td>0.010000</td>\n",
       "      <td>1.000000</td>\n",
       "      <td>365.0</td>\n",
       "    </tr>\n",
       "    <tr>\n",
       "      <th>25%</th>\n",
       "      <td>8.725256e+06</td>\n",
       "      <td>8.931349e+06</td>\n",
       "      <td>40.687990</td>\n",
       "      <td>-73.983210</td>\n",
       "      <td>72.000000</td>\n",
       "      <td>1.00000</td>\n",
       "      <td>0.000000</td>\n",
       "      <td>0.240000</td>\n",
       "      <td>1.000000</td>\n",
       "      <td>365.0</td>\n",
       "    </tr>\n",
       "    <tr>\n",
       "      <th>50%</th>\n",
       "      <td>2.065068e+07</td>\n",
       "      <td>4.634351e+07</td>\n",
       "      <td>40.730990</td>\n",
       "      <td>-73.954270</td>\n",
       "      <td>125.000000</td>\n",
       "      <td>3.00000</td>\n",
       "      <td>2.000000</td>\n",
       "      <td>0.720000</td>\n",
       "      <td>2.000000</td>\n",
       "      <td>365.0</td>\n",
       "    </tr>\n",
       "    <tr>\n",
       "      <th>75%</th>\n",
       "      <td>3.027040e+07</td>\n",
       "      <td>1.565055e+08</td>\n",
       "      <td>40.762095</td>\n",
       "      <td>-73.921715</td>\n",
       "      <td>225.000000</td>\n",
       "      <td>30.00000</td>\n",
       "      <td>10.000000</td>\n",
       "      <td>0.720000</td>\n",
       "      <td>7.000000</td>\n",
       "      <td>365.0</td>\n",
       "    </tr>\n",
       "    <tr>\n",
       "      <th>max</th>\n",
       "      <td>3.648315e+07</td>\n",
       "      <td>2.733930e+08</td>\n",
       "      <td>40.893740</td>\n",
       "      <td>-73.721730</td>\n",
       "      <td>9999.000000</td>\n",
       "      <td>1250.00000</td>\n",
       "      <td>183.000000</td>\n",
       "      <td>8.940000</td>\n",
       "      <td>327.000000</td>\n",
       "      <td>365.0</td>\n",
       "    </tr>\n",
       "  </tbody>\n",
       "</table>\n",
       "</div>"
      ],
      "text/plain": [
       "                 id       host_id     latitude    longitude        price  \\\n",
       "count  1.295000e+03  1.295000e+03  1295.000000  1295.000000  1295.000000   \n",
       "mean   1.940195e+07  8.554698e+07    40.729014   -73.943275   250.769884   \n",
       "std    1.197265e+07  8.786960e+07     0.057781     0.059799   550.497373   \n",
       "min    2.539000e+03  2.787000e+03    40.507080   -74.242850    20.000000   \n",
       "25%    8.725256e+06  8.931349e+06    40.687990   -73.983210    72.000000   \n",
       "50%    2.065068e+07  4.634351e+07    40.730990   -73.954270   125.000000   \n",
       "75%    3.027040e+07  1.565055e+08    40.762095   -73.921715   225.000000   \n",
       "max    3.648315e+07  2.733930e+08    40.893740   -73.721730  9999.000000   \n",
       "\n",
       "       minimum_nights  number_of_reviews  reviews_per_month  \\\n",
       "count      1295.00000        1295.000000        1295.000000   \n",
       "mean         19.60000          10.220849           0.793089   \n",
       "std          65.05093          22.095983           0.897942   \n",
       "min           1.00000           0.000000           0.010000   \n",
       "25%           1.00000           0.000000           0.240000   \n",
       "50%           3.00000           2.000000           0.720000   \n",
       "75%          30.00000          10.000000           0.720000   \n",
       "max        1250.00000         183.000000           8.940000   \n",
       "\n",
       "       calculated_host_listings_count  availability_365  \n",
       "count                     1295.000000            1295.0  \n",
       "mean                        13.158301             365.0  \n",
       "std                         36.224171               0.0  \n",
       "min                          1.000000             365.0  \n",
       "25%                          1.000000             365.0  \n",
       "50%                          2.000000             365.0  \n",
       "75%                          7.000000             365.0  \n",
       "max                        327.000000             365.0  "
      ]
     },
     "execution_count": 20,
     "metadata": {},
     "output_type": "execute_result"
    }
   ],
   "source": [
    "airbnb_data[airbnb_data['availability_365'] == 365].describe()"
   ]
  },
  {
   "cell_type": "markdown",
   "id": "3cfea88b",
   "metadata": {},
   "source": [
    "#### Costliest airbnb with 365 days availablity costs around 10k dollars with average of 250 dollars."
   ]
  },
  {
   "cell_type": "markdown",
   "id": "615c6091",
   "metadata": {},
   "source": [
    "### Analysis of reviews_per_month"
   ]
  },
  {
   "cell_type": "code",
   "execution_count": 22,
   "id": "9bc2a0d7",
   "metadata": {},
   "outputs": [
    {
     "data": {
      "text/plain": [
       "58.5"
      ]
     },
     "execution_count": 22,
     "metadata": {},
     "output_type": "execute_result"
    }
   ],
   "source": [
    "airbnb_data['reviews_per_month'].max()"
   ]
  },
  {
   "cell_type": "code",
   "execution_count": 23,
   "id": "d4924870",
   "metadata": {},
   "outputs": [
    {
     "data": {
      "text/html": [
       "<div>\n",
       "<style scoped>\n",
       "    .dataframe tbody tr th:only-of-type {\n",
       "        vertical-align: middle;\n",
       "    }\n",
       "\n",
       "    .dataframe tbody tr th {\n",
       "        vertical-align: top;\n",
       "    }\n",
       "\n",
       "    .dataframe thead th {\n",
       "        text-align: right;\n",
       "    }\n",
       "</style>\n",
       "<table border=\"1\" class=\"dataframe\">\n",
       "  <thead>\n",
       "    <tr style=\"text-align: right;\">\n",
       "      <th></th>\n",
       "      <th>id</th>\n",
       "      <th>name</th>\n",
       "      <th>host_id</th>\n",
       "      <th>host_name</th>\n",
       "      <th>neighbourhood_group</th>\n",
       "      <th>neighbourhood</th>\n",
       "      <th>latitude</th>\n",
       "      <th>longitude</th>\n",
       "      <th>room_type</th>\n",
       "      <th>price</th>\n",
       "      <th>minimum_nights</th>\n",
       "      <th>number_of_reviews</th>\n",
       "      <th>last_review</th>\n",
       "      <th>reviews_per_month</th>\n",
       "      <th>calculated_host_listings_count</th>\n",
       "      <th>availability_365</th>\n",
       "    </tr>\n",
       "  </thead>\n",
       "  <tbody>\n",
       "    <tr>\n",
       "      <th>42075</th>\n",
       "      <td>32678719</td>\n",
       "      <td>Enjoy great views of the City in our Deluxe Room!</td>\n",
       "      <td>244361589</td>\n",
       "      <td>Row NYC</td>\n",
       "      <td>Manhattan</td>\n",
       "      <td>Theater District</td>\n",
       "      <td>40.75918</td>\n",
       "      <td>-73.98801</td>\n",
       "      <td>Private room</td>\n",
       "      <td>100</td>\n",
       "      <td>1</td>\n",
       "      <td>156</td>\n",
       "      <td>07-07-2019</td>\n",
       "      <td>58.5</td>\n",
       "      <td>9</td>\n",
       "      <td>299</td>\n",
       "    </tr>\n",
       "  </tbody>\n",
       "</table>\n",
       "</div>"
      ],
      "text/plain": [
       "             id                                               name    host_id  \\\n",
       "42075  32678719  Enjoy great views of the City in our Deluxe Room!  244361589   \n",
       "\n",
       "      host_name neighbourhood_group     neighbourhood  latitude  longitude  \\\n",
       "42075   Row NYC           Manhattan  Theater District  40.75918  -73.98801   \n",
       "\n",
       "          room_type  price  minimum_nights  number_of_reviews last_review  \\\n",
       "42075  Private room    100               1                156  07-07-2019   \n",
       "\n",
       "       reviews_per_month  calculated_host_listings_count  availability_365  \n",
       "42075               58.5                               9               299  "
      ]
     },
     "execution_count": 23,
     "metadata": {},
     "output_type": "execute_result"
    }
   ],
   "source": [
    "airbnb_data[airbnb_data['reviews_per_month'] == 58.5]"
   ]
  },
  {
   "cell_type": "markdown",
   "id": "659649e1",
   "metadata": {},
   "source": [
    "#### Enjoy great views in Manhattan has the highest reviews per month. They offer Private room and is worth 100 dollars a night."
   ]
  },
  {
   "cell_type": "markdown",
   "id": "0093471e",
   "metadata": {},
   "source": [
    "## Bivariate Analysis"
   ]
  },
  {
   "cell_type": "code",
   "execution_count": 25,
   "id": "463801af",
   "metadata": {},
   "outputs": [
    {
     "data": {
      "image/png": "[encoded data removed]",
      "text/plain": [
       "<Figure size 1080x576 with 2 Axes>"
      ]
     },
     "metadata": {
      "needs_background": "light"
     },
     "output_type": "display_data"
    }
   ],
   "source": [
    "corr = airbnb_data.corr()\n",
    "plt.figure(figsize=(15,8))\n",
    "sns.heatmap(corr, annot=True)\n",
    "plt.show()"
   ]
  },
  {
   "cell_type": "code",
   "execution_count": 8,
   "id": "1f0d5f8f",
   "metadata": {},
   "outputs": [
    {
     "data": {
      "image/png": "[encoded data removed]",
      "text/plain": [
       "<Figure size 720x432 with 1 Axes>"
      ]
     },
     "metadata": {
      "needs_background": "light"
     },
     "output_type": "display_data"
    }
   ],
   "source": [
    "plt.figure(figsize=(10,6))\n",
    "sns.countplot(data = airbnb_data, x = 'room_type', hue = 'neighbourhood_group')\n",
    "plt.show()"
   ]
  },
  {
   "cell_type": "markdown",
   "id": "d477b8b7",
   "metadata": {},
   "source": [
    "#### Home service seems to be most used by people and the highest in Manhattan. This is also the highest service used across New York City."
   ]
  },
  {
   "cell_type": "code",
   "execution_count": 11,
   "id": "e9e27538",
   "metadata": {},
   "outputs": [
    {
     "data": {
      "image/png": "[encoded data removed]",
      "text/plain": [
       "<Figure size 720x432 with 1 Axes>"
      ]
     },
     "metadata": {
      "needs_background": "light"
     },
     "output_type": "display_data"
    }
   ],
   "source": [
    "plt.figure(figsize=(10,6))\n",
    "sns.barplot(x = 'room_type',\n",
    "            y = 'price',\n",
    "            hue = 'neighbourhood_group',\n",
    "            data = airbnb_data, ci=0)\n",
    "plt.show()"
   ]
  },
  {
   "cell_type": "markdown",
   "id": "a626b84f",
   "metadata": {},
   "source": [
    "#### Manhattan has the most expensive rental properties, while Bronx has the least expensive."
   ]
  },
  {
   "cell_type": "code",
   "execution_count": 29,
   "id": "aea0c085",
   "metadata": {},
   "outputs": [
    {
     "data": {
      "image/png": "[encoded data removed]",
      "text/plain": [
       "<Figure size 720x432 with 1 Axes>"
      ]
     },
     "metadata": {
      "needs_background": "light"
     },
     "output_type": "display_data"
    }
   ],
   "source": [
    "plt.figure(figsize=(10,6))\n",
    "ax = sns.boxplot(data=airbnb_data, x='neighbourhood_group',y='availability_365',palette='plasma')\n",
    "plt.show()"
   ]
  },
  {
   "cell_type": "markdown",
   "id": "5f2b752e",
   "metadata": {},
   "source": [
    "#### Staten Island has th highest average airbnb availablity."
   ]
  },
  {
   "cell_type": "code",
   "execution_count": 30,
   "id": "7c79f525",
   "metadata": {},
   "outputs": [
    {
     "data": {
      "image/png": "[encoded data removed]",
      "text/plain": [
       "<Figure size 432x288 with 1 Axes>"
      ]
     },
     "metadata": {
      "needs_background": "light"
     },
     "output_type": "display_data"
    }
   ],
   "source": [
    "v2=sns.boxplot(data=airbnb_data[airbnb_data.price < 200], x='neighbourhood_group', y='price')\n",
    "v2.set_title('Density and distribution of prices for each neighberhood_group')\n",
    "plt.show()"
   ]
  },
  {
   "cell_type": "markdown",
   "id": "139e64a5",
   "metadata": {},
   "source": [
    "#### Manhattan airbnb's has the highest average price."
   ]
  },
  {
   "cell_type": "code",
   "execution_count": 32,
   "id": "05acd199",
   "metadata": {},
   "outputs": [
    {
     "data": {
      "image/png": "[encoded data removed]",
      "text/plain": [
       "<Figure size 432x288 with 1 Axes>"
      ]
     },
     "metadata": {
      "needs_background": "light"
     },
     "output_type": "display_data"
    }
   ],
   "source": [
    "airbnb_dataR=airbnb_data.sort_values(by=['number_of_reviews'],ascending=False)\n",
    "airbnb_dataR['neighbourhood_group'].value_counts().plot(kind = 'bar')\n",
    "plt.show()"
   ]
  },
  {
   "cell_type": "markdown",
   "id": "8605720e",
   "metadata": {},
   "source": [
    "#### Manhattan and Brooklyn got highest reviews respectively."
   ]
  },
  {
   "cell_type": "code",
   "execution_count": null,
   "id": "cbf19c2a",
   "metadata": {},
   "outputs": [],
   "source": []
  },
  {
   "cell_type": "code",
   "execution_count": null,
   "id": "1c954619",
   "metadata": {},
   "outputs": [],
   "source": []
  }
 ],
 "metadata": {
  "kernelspec": {
   "display_name": "Python 3 (ipykernel)",
   "language": "python",
   "name": "python3"
  },
  "language_info": {
   "codemirror_mode": {
    "name": "ipython",
    "version": 3
   },
   "file_extension": ".py",
   "mimetype": "text/x-python",
   "name": "python",
   "nbconvert_exporter": "python",
   "pygments_lexer": "ipython3",
   "version": "3.9.12"
  }
 },
 "nbformat": 4,
 "nbformat_minor": 5
}
